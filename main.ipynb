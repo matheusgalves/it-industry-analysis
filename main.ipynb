{
 "cells": [
  {
   "cell_type": "markdown",
   "metadata": {},
   "source": [
    "# **Análise Descritiva do setor de TI**\n",
    "\n",
    "### **Objetivo da análise:**\n",
    "\n",
    " Identificar padrões no Setor de TI, entender a distribuição dos salários, examinar a relação entre experiência e salário, identificar diferenças salariais por cargo e gênero.\n",
    "\n",
    "### **Dicionário das Variáveis**:\n",
    "\n",
    "- **ID**: Um identificador único para cada colaborador.\n",
    "- **Gender**: O sexo do colaborador.\n",
    "- **Experience (Years)**: O número de anos de experiência do funcionário\n",
    "- **Position**: O cargo que o colaborador ocupa na empresa.\n",
    "- **Salary**: O salário anual do colaborador em USD.\n",
    "\n",
    "### **Importação dos Dados**\n",
    "\n",
    " Agora, vamos importar os dados do dataset para um dataframe."
   ]
  },
  {
   "cell_type": "code",
   "execution_count": 1,
   "metadata": {},
   "outputs": [],
   "source": [
    "import pandas as pd\n",
    "import numpy as np\n",
    "import matplotlib.pyplot as plt"
   ]
  },
  {
   "cell_type": "code",
   "execution_count": 4,
   "metadata": {},
   "outputs": [],
   "source": [
    "# importar o arquivo para um DataFrame\n",
    "df = pd.read_csv(\"dataset\\\\employee_data.csv\")"
   ]
  },
  {
   "cell_type": "markdown",
   "metadata": {},
   "source": [
    "### **Análise Exploratória dos Dados**\n",
    "\n",
    "Primeiramente, vamos entender o nosso dataset, analisando uma amostra aleatória e as dimensões do mesmo."
   ]
  },
  {
   "cell_type": "code",
   "execution_count": 9,
   "metadata": {},
   "outputs": [
    {
     "name": "stdout",
     "output_type": "stream",
     "text": [
      "O DataFrame possui 400 linhas e 5 colunas.\n"
     ]
    },
    {
     "data": {
      "text/html": [
       "<div>\n",
       "<style scoped>\n",
       "    .dataframe tbody tr th:only-of-type {\n",
       "        vertical-align: middle;\n",
       "    }\n",
       "\n",
       "    .dataframe tbody tr th {\n",
       "        vertical-align: top;\n",
       "    }\n",
       "\n",
       "    .dataframe thead th {\n",
       "        text-align: right;\n",
       "    }\n",
       "</style>\n",
       "<table border=\"1\" class=\"dataframe\">\n",
       "  <thead>\n",
       "    <tr style=\"text-align: right;\">\n",
       "      <th></th>\n",
       "      <th>ID</th>\n",
       "      <th>Gender</th>\n",
       "      <th>Experience (Years)</th>\n",
       "      <th>Position</th>\n",
       "      <th>Salary</th>\n",
       "    </tr>\n",
       "  </thead>\n",
       "  <tbody>\n",
       "    <tr>\n",
       "      <th>187</th>\n",
       "      <td>188</td>\n",
       "      <td>F</td>\n",
       "      <td>1</td>\n",
       "      <td>Systems Analyst</td>\n",
       "      <td>86818</td>\n",
       "    </tr>\n",
       "    <tr>\n",
       "      <th>33</th>\n",
       "      <td>34</td>\n",
       "      <td>M</td>\n",
       "      <td>3</td>\n",
       "      <td>IT Security Analyst</td>\n",
       "      <td>97240</td>\n",
       "    </tr>\n",
       "    <tr>\n",
       "      <th>270</th>\n",
       "      <td>271</td>\n",
       "      <td>F</td>\n",
       "      <td>7</td>\n",
       "      <td>IT Manager</td>\n",
       "      <td>115263</td>\n",
       "    </tr>\n",
       "    <tr>\n",
       "      <th>165</th>\n",
       "      <td>166</td>\n",
       "      <td>F</td>\n",
       "      <td>7</td>\n",
       "      <td>IT Manager</td>\n",
       "      <td>120172</td>\n",
       "    </tr>\n",
       "    <tr>\n",
       "      <th>290</th>\n",
       "      <td>291</td>\n",
       "      <td>M</td>\n",
       "      <td>0</td>\n",
       "      <td>IT Security Analyst</td>\n",
       "      <td>70591</td>\n",
       "    </tr>\n",
       "  </tbody>\n",
       "</table>\n",
       "</div>"
      ],
      "text/plain": [
       "      ID Gender  Experience (Years)             Position  Salary\n",
       "187  188      F                   1      Systems Analyst   86818\n",
       "33    34      M                   3  IT Security Analyst   97240\n",
       "270  271      F                   7           IT Manager  115263\n",
       "165  166      F                   7           IT Manager  120172\n",
       "290  291      M                   0  IT Security Analyst   70591"
      ]
     },
     "execution_count": 9,
     "metadata": {},
     "output_type": "execute_result"
    }
   ],
   "source": [
    "print(f'O DataFrame possui {df.shape[0]} linhas e {df.shape[1]} colunas.')\n",
    "\n",
    "# selecionando uma amostra aleatória do dataframe com 5 linhas.\n",
    "df.sample(5)"
   ]
  },
  {
   "cell_type": "markdown",
   "metadata": {},
   "source": [
    "Agora, vamos verificar se os tipos das variáveis fazem sentido com o dicionário."
   ]
  },
  {
   "cell_type": "code",
   "execution_count": 10,
   "metadata": {},
   "outputs": [
    {
     "data": {
      "text/plain": [
       "ID                     int64\n",
       "Gender                object\n",
       "Experience (Years)     int64\n",
       "Position              object\n",
       "Salary                 int64\n",
       "dtype: object"
      ]
     },
     "metadata": {},
     "output_type": "display_data"
    }
   ],
   "source": [
    "display(df.dtypes)"
   ]
  },
  {
   "cell_type": "markdown",
   "metadata": {},
   "source": [
    "Para evitar o truncamento de valores em operações futuras, na variável **Salary**, convertermos seu tipo para **float** (tipo de dados decimais)."
   ]
  },
  {
   "cell_type": "code",
   "execution_count": 11,
   "metadata": {},
   "outputs": [
    {
     "data": {
      "text/plain": [
       "0      109976.0\n",
       "1      120088.0\n",
       "2      181301.0\n",
       "3       77530.0\n",
       "4      152397.0\n",
       "         ...   \n",
       "395    236045.0\n",
       "396    182770.0\n",
       "397     85550.0\n",
       "398    129996.0\n",
       "399    169058.0\n",
       "Name: Salary, Length: 400, dtype: float64"
      ]
     },
     "execution_count": 11,
     "metadata": {},
     "output_type": "execute_result"
    }
   ],
   "source": [
    "df['Salary'].astype('float64')"
   ]
  },
  {
   "cell_type": "markdown",
   "metadata": {},
   "source": [
    "Para ter uma noção da integridade dos dados, verificarei a porcentagem de valores ausentes por variável.\n",
    "Esta etapa é imprescindível pois, se houverem, devemos realizar o devido tratamento."
   ]
  },
  {
   "cell_type": "code",
   "execution_count": 12,
   "metadata": {},
   "outputs": [
    {
     "data": {
      "text/plain": [
       "ID                    0.0\n",
       "Gender                0.0\n",
       "Experience (Years)    0.0\n",
       "Position              0.0\n",
       "Salary                0.0\n",
       "dtype: float64"
      ]
     },
     "metadata": {},
     "output_type": "display_data"
    }
   ],
   "source": [
    "display(df.isnull().sum()/len(df)*100)"
   ]
  },
  {
   "cell_type": "markdown",
   "metadata": {},
   "source": [
    "Como não existem valores ausentes, podemos prosseguir para as próximas etapas da nossa análise descritiva."
   ]
  },
  {
   "cell_type": "markdown",
   "metadata": {},
   "source": [
    "### **Análise Descritiva dos Dados**\n",
    "\n",
    "Vamos iniciar a análise dos dados.\n",
    "\n",
    "Primeiro, observaremos as principais estatísticas descritivas das variáveis numéricas.\n",
    "\n",
    "Após isso, verificaremos a distribuição dos dados para cada variável.\n"
   ]
  },
  {
   "cell_type": "code",
   "execution_count": 16,
   "metadata": {},
   "outputs": [
    {
     "data": {
      "text/html": [
       "<div>\n",
       "<style scoped>\n",
       "    .dataframe tbody tr th:only-of-type {\n",
       "        vertical-align: middle;\n",
       "    }\n",
       "\n",
       "    .dataframe tbody tr th {\n",
       "        vertical-align: top;\n",
       "    }\n",
       "\n",
       "    .dataframe thead th {\n",
       "        text-align: right;\n",
       "    }\n",
       "</style>\n",
       "<table border=\"1\" class=\"dataframe\">\n",
       "  <thead>\n",
       "    <tr style=\"text-align: right;\">\n",
       "      <th></th>\n",
       "      <th>ID</th>\n",
       "      <th>Experience (Years)</th>\n",
       "      <th>Salary</th>\n",
       "    </tr>\n",
       "  </thead>\n",
       "  <tbody>\n",
       "    <tr>\n",
       "      <th>count</th>\n",
       "      <td>400.000000</td>\n",
       "      <td>400.000000</td>\n",
       "      <td>400.00000</td>\n",
       "    </tr>\n",
       "    <tr>\n",
       "      <th>mean</th>\n",
       "      <td>200.500000</td>\n",
       "      <td>9.670000</td>\n",
       "      <td>131701.19750</td>\n",
       "    </tr>\n",
       "    <tr>\n",
       "      <th>std</th>\n",
       "      <td>115.614301</td>\n",
       "      <td>6.101571</td>\n",
       "      <td>43351.50899</td>\n",
       "    </tr>\n",
       "    <tr>\n",
       "      <th>min</th>\n",
       "      <td>1.000000</td>\n",
       "      <td>0.000000</td>\n",
       "      <td>43643.00000</td>\n",
       "    </tr>\n",
       "    <tr>\n",
       "      <th>25%</th>\n",
       "      <td>100.750000</td>\n",
       "      <td>4.000000</td>\n",
       "      <td>100484.75000</td>\n",
       "    </tr>\n",
       "    <tr>\n",
       "      <th>50%</th>\n",
       "      <td>200.500000</td>\n",
       "      <td>10.000000</td>\n",
       "      <td>128561.50000</td>\n",
       "    </tr>\n",
       "    <tr>\n",
       "      <th>75%</th>\n",
       "      <td>300.250000</td>\n",
       "      <td>15.000000</td>\n",
       "      <td>157735.00000</td>\n",
       "    </tr>\n",
       "    <tr>\n",
       "      <th>max</th>\n",
       "      <td>400.000000</td>\n",
       "      <td>20.000000</td>\n",
       "      <td>269950.00000</td>\n",
       "    </tr>\n",
       "  </tbody>\n",
       "</table>\n",
       "</div>"
      ],
      "text/plain": [
       "               ID  Experience (Years)        Salary\n",
       "count  400.000000          400.000000     400.00000\n",
       "mean   200.500000            9.670000  131701.19750\n",
       "std    115.614301            6.101571   43351.50899\n",
       "min      1.000000            0.000000   43643.00000\n",
       "25%    100.750000            4.000000  100484.75000\n",
       "50%    200.500000           10.000000  128561.50000\n",
       "75%    300.250000           15.000000  157735.00000\n",
       "max    400.000000           20.000000  269950.00000"
      ]
     },
     "execution_count": 16,
     "metadata": {},
     "output_type": "execute_result"
    }
   ],
   "source": [
    "df.describe()"
   ]
  },
  {
   "cell_type": "code",
   "execution_count": 18,
   "metadata": {},
   "outputs": [
    {
     "data": {
      "text/plain": [
       "array([[<Axes: title={'center': 'ID'}>,\n",
       "        <Axes: title={'center': 'Experience (Years)'}>],\n",
       "       [<Axes: title={'center': 'Salary'}>, <Axes: >]], dtype=object)"
      ]
     },
     "execution_count": 18,
     "metadata": {},
     "output_type": "execute_result"
    },
    {
     "data": {
      "image/png": "[encoded data removed]",
      "text/plain": [
       "<Figure size 1500x1000 with 4 Axes>"
      ]
     },
     "metadata": {},
     "output_type": "display_data"
    }
   ],
   "source": [
    "# plotar o histograma das variáveis numéricas\n",
    "df.hist(bins=5, figsize= (15, 10))"
   ]
  }
 ],
 "metadata": {
  "kernelspec": {
   "display_name": "Python 3",
   "language": "python",
   "name": "python3"
  },
  "language_info": {
   "codemirror_mode": {
    "name": "ipython",
    "version": 3
   },
   "file_extension": ".py",
   "mimetype": "text/x-python",
   "name": "python",
   "nbconvert_exporter": "python",
   "pygments_lexer": "ipython3",
   "version": "3.12.4"
  }
 },
 "nbformat": 4,
 "nbformat_minor": 2
}
